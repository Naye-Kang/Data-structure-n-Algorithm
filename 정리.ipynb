{
 "cells": [
  {
   "cell_type": "code",
   "execution_count": null,
   "metadata": {},
   "outputs": [],
   "source": [
    "# 두 개 뽑아서 더하기\n",
    "def solution(numbers):\n",
    "    answer = []\n",
    "    for i in range(len(numbers)) : \n",
    "        for l in range(i+1,len(numbers)):\n",
    "            sum = numbers[i]+numbers[l]\n",
    "            if sum in answer : \n",
    "                pass\n",
    "            else : \n",
    "                answer.append(sum)\n",
    "    answer.sort()\n",
    "    return answer"
   ]
  },
  {
   "cell_type": "code",
   "execution_count": null,
   "metadata": {},
   "outputs": [],
   "source": [
    "# 완전탐색 모의고사\n",
    "def solution(answers):\n",
    "    answer = []\n",
    "    a = [1,2,3,4,5]*2000\n",
    "    b = [2,1,2,3,2,4,2,5]*1250\n",
    "    c = [3,3,1,1,2,2,4,4,5,5]*1000\n",
    "    m = 0\n",
    "    n = 0 \n",
    "    l = 0 \n",
    "    for i in range(len(answers)):\n",
    "        if answers[i] == a[i]:\n",
    "            m+=1\n",
    "        if answers[i] == b[i]:\n",
    "            n+=1\n",
    "        if answers[i] == c[i]:\n",
    "            l+=1\n",
    "    K = [m,n,l]\n",
    "    for person, score in enumerate(K):\n",
    "        if score == max(K):\n",
    "            answer.append(person+1)\n",
    "    return answer"
   ]
  },
  {
   "cell_type": "code",
   "execution_count": null,
   "metadata": {},
   "outputs": [],
   "source": [
    "# 정렬 K번째수\n",
    "def solution(array, commands):\n",
    "    answer = []\n",
    "    for a in commands :  \n",
    "        next = array[a[0]-1:a[1]]\n",
    "        next.sort()\n",
    "        m = next[a[2]-1]\n",
    "        answer.append(m)\n",
    "    return answer"
   ]
  },
  {
   "cell_type": "code",
   "execution_count": null,
   "metadata": {},
   "outputs": [],
   "source": [
    "# 가운데 글자 가져오기\n",
    "def solution(s):\n",
    "    a = []\n",
    "    answer = ''\n",
    "    for i in s : \n",
    "        a.append(i)\n",
    "    if len(a)%2 == 0 : \n",
    "        i = a [len(a)//2-1]\n",
    "        j = a [len(a)//2]\n",
    "        answer += i\n",
    "        answer += j\n",
    "    else : \n",
    "        answer += a [len(a)//2]\n",
    "    return answer"
   ]
  },
  {
   "cell_type": "code",
   "execution_count": null,
   "metadata": {},
   "outputs": [],
   "source": [
    "# 같은 숫자는 싫어\n",
    "def solution(arr):\n",
    "    answer = []\n",
    "    answer.append(arr[0])\n",
    "    for i in range(1,len(arr)):\n",
    "        if arr[i-1]==arr[i]:\n",
    "            pass\n",
    "        else : \n",
    "            answer.append(arr[i])     \n",
    "    return answer"
   ]
  },
  {
   "cell_type": "code",
   "execution_count": null,
   "metadata": {},
   "outputs": [],
   "source": [
    "# 나누어 떨어지는 숫자 배열\n",
    "def solution(arr, divisor):\n",
    "    answer = []\n",
    "    for i in arr : \n",
    "        if i%divisor == 0:\n",
    "            answer.append(i)\n",
    "        else : \n",
    "            pass\n",
    "    if len(answer) == 0:\n",
    "        answer.append(-1)\n",
    "    else : \n",
    "        answer.sort()\n",
    "    return answer"
   ]
  },
  {
   "cell_type": "code",
   "execution_count": null,
   "metadata": {},
   "outputs": [],
   "source": [
    "# 두 정수 사이의 합\n",
    "def solution(a, b):\n",
    "    \n",
    "    answer = 0\n",
    "    if a < b : \n",
    "        for i in range(a,b+1):\n",
    "            answer += i\n",
    "    elif a == b :\n",
    "        answer = a \n",
    "    else : \n",
    "        for l in range(b,a+1):\n",
    "            answer += l \n",
    "    return answer"
   ]
  },
  {
   "cell_type": "code",
   "execution_count": null,
   "metadata": {},
   "outputs": [],
   "source": [
    "# 문자열 내 마음대로 정렬하기\n",
    "def solution(strings, n):\n",
    "    strings.sort()\n",
    "    for i in strings :\n",
    "        answer = sorted (strings, key = lambda i : (i[n]))\n",
    "\n",
    "    return answer"
   ]
  },
  {
   "cell_type": "code",
   "execution_count": null,
   "metadata": {},
   "outputs": [],
   "source": [
    "# 문자열 내 p와 y의 개수\n",
    "def solution(s):\n",
    "    answer = True\n",
    "    s = s.lower()\n",
    "    a = 0\n",
    "    b = 0\n",
    "    for i in s : \n",
    "        if i == 'p' : \n",
    "            a+=1\n",
    "        elif i == 'y' : \n",
    "            b+=1\n",
    "        else :\n",
    "            pass\n",
    "\n",
    "    if a == b : \n",
    "        pass\n",
    "    else : \n",
    "        answer = False \n",
    "\n",
    "    print('Hello Python')\n",
    "\n",
    "    return answer"
   ]
  },
  {
   "cell_type": "code",
   "execution_count": null,
   "metadata": {},
   "outputs": [],
   "source": [
    "# 문자열 내림차순으로 배치하기\n",
    "def solution(s):\n",
    "    answer = ''\n",
    "    a = []\n",
    "    b = []\n",
    "    for i in s : \n",
    "        if i.islower() == True : \n",
    "            a.append(i)\n",
    "        else : \n",
    "            b.append(i)\n",
    "    a.sort(reverse=True)\n",
    "    b.sort(reverse=True)\n",
    "    for i in a : \n",
    "        answer += i\n",
    "    for s in b : \n",
    "        answer += s\n",
    "    return answer"
   ]
  },
  {
   "cell_type": "code",
   "execution_count": null,
   "metadata": {},
   "outputs": [],
   "source": [
    "# 문자열 다루기 기본\n",
    "def solution(s):\n",
    "    answer = True\n",
    "    if len(s) == 4 or len(s) == 6 : \n",
    "        for a in s : \n",
    "            if s.isdigit(): \n",
    "                pass\n",
    "            else :\n",
    "                answer = False \n",
    "    else : \n",
    "        answer = False \n",
    "    return answer"
   ]
  },
  {
   "cell_type": "code",
   "execution_count": null,
   "metadata": {},
   "outputs": [],
   "source": [
    "# 서울에서 김서방 찾기\n",
    "def solution(seoul):\n",
    "    answer = '김서방은 '\n",
    "    for i in range(len(seoul)):\n",
    "        if seoul[i] == 'Kim':\n",
    "            answer += str(i)\n",
    "    answer += '에 있다'\n",
    "    return answer"
   ]
  },
  {
   "cell_type": "code",
   "execution_count": null,
   "metadata": {},
   "outputs": [],
   "source": [
    "# 약수의 합\n",
    "def solution(n):\n",
    "    answer = 0\n",
    "    for i in range(n):\n",
    "        if n%(i+1) == 0:\n",
    "            answer+=(i+1)\n",
    "        else :\n",
    "            pass\n",
    "    return answer"
   ]
  },
  {
   "cell_type": "code",
   "execution_count": null,
   "metadata": {},
   "outputs": [],
   "source": [
    "# 자릿수 더하기\n",
    "def solution(n):\n",
    "    answer = 0\n",
    "    while n >= 1 :  \n",
    "        a = n%10\n",
    "        answer+=a\n",
    "        n = n//10\n",
    "    else :\n",
    "        pass\n",
    "    return answer"
   ]
  },
  {
   "cell_type": "code",
   "execution_count": null,
   "metadata": {},
   "outputs": [],
   "source": [
    "# 자연수 뒤집어 배열로 만들기\n",
    "def solution(n):\n",
    "    answer = []\n",
    "    n = str(n)\n",
    "    for i in n:\n",
    "        answer.append(int(i))\n",
    "    answer.reverse()\n",
    "    return answer"
   ]
  },
  {
   "cell_type": "code",
   "execution_count": null,
   "metadata": {},
   "outputs": [],
   "source": [
    "# 정수 내림차순으로 배치하기 \n",
    "def solution(n):\n",
    "    answer = 0\n",
    "    l=''\n",
    "    m=str(n)\n",
    "    A=[]\n",
    "    for i in m :\n",
    "        A.append(i)\n",
    "    B=sorted(A,reverse=True)\n",
    "    for i in B : \n",
    "        l += i \n",
    "    answer = int(l)\n",
    "    return answer"
   ]
  },
  {
   "cell_type": "code",
   "execution_count": null,
   "metadata": {},
   "outputs": [],
   "source": [
    "# 제일 작은 수 제거하기\n",
    "def solution(arr):\n",
    "    answer = []\n",
    "    if len(arr) == 1: \n",
    "        answer.append(-1)\n",
    "    else : \n",
    "        a = min(arr)\n",
    "        arr.remove(a)\n",
    "        answer=arr\n",
    "    return answer"
   ]
  },
  {
   "cell_type": "code",
   "execution_count": null,
   "metadata": {},
   "outputs": [],
   "source": [
    "# 짝수와 홀수\n",
    "def solution(num):\n",
    "    answer = ''\n",
    "    if num%2 == 0: \n",
    "        answer='Even'\n",
    "    else : \n",
    "        answer='Odd'\n",
    "    return answer"
   ]
  },
  {
   "cell_type": "code",
   "execution_count": null,
   "metadata": {},
   "outputs": [],
   "source": [
    "# 최대공약수와 최소공배수\n",
    "def solution(n, m):\n",
    "    answer = []\n",
    "    K=[n,m]\n",
    "    K.sort()\n",
    "    a=K[0]\n",
    "    b=K[1]\n",
    "    \n",
    "    G = []\n",
    "    L = []\n",
    "    # 최대 공약수 \n",
    "    for i in range(a):\n",
    "        if a%(i+1) == 0 and b%(i+1) == 0 : \n",
    "            G.append(i+1)\n",
    "        else : \n",
    "            pass\n",
    "    G.sort()\n",
    "    for i in range(a*b):\n",
    "        if (i+1)%a == 0 and (i+1)%b == 0 : \n",
    "            L.append(i+1)\n",
    "    L.sort()\n",
    "    answer = [G[-1],L[0]]\n",
    "    return answer"
   ]
  },
  {
   "cell_type": "code",
   "execution_count": null,
   "metadata": {},
   "outputs": [],
   "source": [
    "# 평균 구하기\n",
    "def solution(arr):\n",
    "    answer = 0\n",
    "    total = 0 \n",
    "    for i in arr : \n",
    "        total+=i\n",
    "    answer = total/(len(arr))\n",
    "    return answer"
   ]
  },
  {
   "cell_type": "code",
   "execution_count": null,
   "metadata": {},
   "outputs": [],
   "source": [
    "# 핸드폰 번호 가리기\n",
    "def solution(phone_number):\n",
    "    answer = ''\n",
    "    a = str(phone_number)\n",
    "    b = []\n",
    "    for i in a : \n",
    "        b.append(i)\n",
    "    answer += '*'*(len(b)-4)\n",
    "    for i in range(-4,0):\n",
    "        answer += str(b[i])\n",
    "    return answer"
   ]
  },
  {
   "cell_type": "code",
   "execution_count": null,
   "metadata": {},
   "outputs": [],
   "source": [
    "# x만큼 간격이 있는 n개의 숫자\n",
    "def solution(x, n):\n",
    "    answer = []\n",
    "    for i in range(n):\n",
    "        a = x+x*(i)\n",
    "        answer.append(a)\n",
    "    return answer"
   ]
  }
 ],
 "metadata": {
  "kernelspec": {
   "display_name": "Python 3",
   "language": "python",
   "name": "python3"
  },
  "language_info": {
   "codemirror_mode": {
    "name": "ipython",
    "version": 3
   },
   "file_extension": ".py",
   "mimetype": "text/x-python",
   "name": "python",
   "nbconvert_exporter": "python",
   "pygments_lexer": "ipython3",
   "version": "3.8.3"
  }
 },
 "nbformat": 4,
 "nbformat_minor": 4
}
