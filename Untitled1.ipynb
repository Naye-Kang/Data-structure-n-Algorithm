{
 "cells": [
  {
   "cell_type": "code",
   "execution_count": 1,
   "metadata": {},
   "outputs": [],
   "source": [
    "def solution(n):\n",
    "    answer = ''\n",
    "    a=n//2\n",
    "    b=n%2\n",
    "    answer += '수박'*a\n",
    "    answer += '수'*b\n",
    "    \n",
    "    return answer"
   ]
  },
  {
   "cell_type": "code",
   "execution_count": 2,
   "metadata": {},
   "outputs": [],
   "source": [
    "# 2016년 \n",
    "def solution(a, b):\n",
    "    answer = ''\n",
    "    day = ['THU','FRI','SAT','SUN','MON','TUE','WED',]\n",
    "    date = [31,29,31,30,31,30,31,31,30,31,30,31]\n",
    "    answer = day[(sum(date[:a-1])+b)%7]\n",
    "    return answer"
   ]
  },
  {
   "cell_type": "code",
   "execution_count": 3,
   "metadata": {},
   "outputs": [],
   "source": [
    "# 콜라츠 추측 \n",
    "def solution(num):\n",
    "    answer = 0\n",
    "    while num != 1 :\n",
    "        if num%2 == 0 : \n",
    "            num=num/2\n",
    "            answer+=1\n",
    "        else : \n",
    "            num=num*3+1\n",
    "            answer+=1\n",
    "    else : \n",
    "        pass \n",
    "    \n",
    "    if answer < 500 :\n",
    "        pass\n",
    "    else :\n",
    "        answer = -1\n",
    "    return answer"
   ]
  },
  {
   "cell_type": "code",
   "execution_count": 4,
   "metadata": {},
   "outputs": [],
   "source": [
    "# 하샤드 수\n",
    "def solution(x):\n",
    "    answer = True\n",
    "    S = []\n",
    "    p = x\n",
    "    while x >= 1 : \n",
    "        a = x%10\n",
    "        x = x//10\n",
    "        S.append(a)\n",
    "    else : \n",
    "        pass\n",
    "    s = sum(S[:])\n",
    "    \n",
    "    if p%s == 0:\n",
    "        pass\n",
    "    else : \n",
    "        answer = False \n",
    "    return answer"
   ]
  },
  {
   "cell_type": "code",
   "execution_count": 5,
   "metadata": {},
   "outputs": [
    {
     "name": "stdout",
     "output_type": "stream",
     "text": [
      "3 5 \n",
      "***\n",
      "***\n",
      "***\n",
      "***\n",
      "***\n"
     ]
    }
   ],
   "source": [
    "# 직사각형 별찍기\n",
    "a, b = map(int, input().strip().split(' '))\n",
    "\n",
    "p = '*'* a \n",
    "for i in range(b):\n",
    "    print(p)"
   ]
  },
  {
   "cell_type": "code",
   "execution_count": 6,
   "metadata": {},
   "outputs": [],
   "source": [
    "# 정수제곱근 판별\n",
    "def solution(n):\n",
    "    answer = 0\n",
    "    a = pow(n,0.5)\n",
    "    if a == int(a) :\n",
    "        answer = (a+1)**2\n",
    "    else : \n",
    "        answer = -1 \n",
    "    return answer"
   ]
  },
  {
   "cell_type": "code",
   "execution_count": 7,
   "metadata": {},
   "outputs": [],
   "source": [
    "# 124 나라의 숫자 \n",
    "def solution(n):\n",
    "    if n<=3:\n",
    "        return '124'[n-1]\n",
    "    else : \n",
    "        q,r=divmod(n-1,3)    \n",
    "    answer = solution(q)+'124'[r]  \n",
    "    return answer"
   ]
  },
  {
   "cell_type": "code",
   "execution_count": 8,
   "metadata": {},
   "outputs": [],
   "source": [
    "# JadenCase 문자열 만들기\n",
    "def solution(s):\n",
    "    answer = ''\n",
    "    for idx, i in enumerate(s): \n",
    "        if (idx == 0): answer = i.upper()\n",
    "        elif s[idx-1] == ' ': answer = ''.join([answer, i.upper()])\n",
    "        else: answer = ''.join([answer, i.lower()])\n",
    "    return answer"
   ]
  },
  {
   "cell_type": "code",
   "execution_count": 9,
   "metadata": {},
   "outputs": [],
   "source": [
    "# 최댓값과 최솟값\n",
    "def solution(s):\n",
    "    answer = ''\n",
    "    A = list(map(int, s.split(\" \")))\n",
    "    a = 0\n",
    "    b = 0\n",
    "    for i in A :\n",
    "        a = max(A)\n",
    "        b = min(A)\n",
    "    answer = str(b)+\" \"+str(a)\n",
    "    \n",
    "    return answer"
   ]
  },
  {
   "cell_type": "code",
   "execution_count": 10,
   "metadata": {},
   "outputs": [],
   "source": [
    "# 가장 큰 수 \n",
    "def solution(num): \n",
    "    num = list(map(str, num)) \n",
    "    num.sort(key = lambda x : x*3, reverse = True) \n",
    "    return str(int(''.join(num))) # 아스키수 활용 "
   ]
  },
  {
   "cell_type": "code",
   "execution_count": 11,
   "metadata": {},
   "outputs": [],
   "source": [
    "# N개의 최소공배수\n",
    "def solution(arr):\n",
    "    answer = 0\n",
    "    a = 1\n",
    "    for i in arr : \n",
    "        a = a*i\n",
    "        \n",
    "    for m in range(1,a+1):\n",
    "        k = 0\n",
    "        for l in arr :\n",
    "            if m%l == 0: \n",
    "                pass\n",
    "            else : \n",
    "                k = -1 \n",
    "        if k == -1 : \n",
    "            pass \n",
    "        else : \n",
    "            answer = m\n",
    "            break \n",
    "    return answer"
   ]
  },
  {
   "cell_type": "code",
   "execution_count": 12,
   "metadata": {},
   "outputs": [
    {
     "name": "stdout",
     "output_type": "stream",
     "text": [
      "3.0\n"
     ]
    }
   ],
   "source": [
    "import math\n",
    " \n",
    "n = math.sqrt(9.0)\n",
    " \n",
    "print(n)   # 3.0 출력"
   ]
  },
  {
   "cell_type": "code",
   "execution_count": 13,
   "metadata": {},
   "outputs": [],
   "source": [
    "# 3진법 뒤집기\n",
    "def solution(n):\n",
    "    answer = 0\n",
    "    a = []\n",
    "    while n >= 1 : \n",
    "        b = n%3 \n",
    "        a.append(b)\n",
    "        n = n//3\n",
    "    for i in range(1,len(a)+1):\n",
    "        answer += a[i-1] * 3**(len(a)-i)\n",
    "    return answer"
   ]
  },
  {
   "cell_type": "code",
   "execution_count": 14,
   "metadata": {},
   "outputs": [],
   "source": [
    "# 소수 찾기 \n",
    "def solution(n):\n",
    "    num_set = set(range(2,n+1))\n",
    "    for i in range(2,n+1):\n",
    "        if i in num_set:\n",
    "            num_set -= set(range(2*i, n+1, i))\n",
    "    answer = len(num_set)\n",
    "    return answer"
   ]
  },
  {
   "cell_type": "code",
   "execution_count": 15,
   "metadata": {},
   "outputs": [],
   "source": [
    "# 소수 만들기 \n",
    "def check(a, b, c): \n",
    "    total = a + b + c\n",
    "    for i in range(2, total): \n",
    "        if total % i == 0 : \n",
    "            return False \n",
    "    return True \n",
    "\n",
    "def solution(nums):\n",
    "    answer = 0\n",
    "    for i in range(0, len(nums) - 2): \n",
    "        for j in range(i+1, len(nums) - 1): \n",
    "            for k in range(j+1, len(nums)): \n",
    "                if check(nums[i], nums[j], nums[k]) == True : \n",
    "                    answer += 1\n",
    "    return answer"
   ]
  },
  {
   "cell_type": "code",
   "execution_count": 16,
   "metadata": {},
   "outputs": [],
   "source": [
    "# 이상한 문자 만들기 \n",
    "def solution(s):\n",
    "    answer = ''\n",
    "    new = list(map(str,s.split(\" \")))\n",
    "    a = []\n",
    "    for i in new : \n",
    "        s=''\n",
    "        for j in range(0,len(i)):\n",
    "            if j%2 != 0 : \n",
    "                s+=i[j].lower()\n",
    "            else :\n",
    "                s+=i[j].upper()\n",
    "        a.append(s)\n",
    "    answer = ' '.join(a)\n",
    "    return answer"
   ]
  },
  {
   "cell_type": "code",
   "execution_count": 17,
   "metadata": {},
   "outputs": [],
   "source": [
    "# 행렬의 덧셈 \n",
    "def solution(arr1, arr2):\n",
    "    answer = [[] for x in range(len(arr1))]\n",
    "    for j in range(len(arr1)) :\n",
    "        for i in range(len(arr1[j])) :\n",
    "            answer[j].append(arr1[j][i]+arr2[j][i])\n",
    "    return answer"
   ]
  }
 ],
 "metadata": {
  "kernelspec": {
   "display_name": "Python 3",
   "language": "python",
   "name": "python3"
  },
  "language_info": {
   "codemirror_mode": {
    "name": "ipython",
    "version": 3
   },
   "file_extension": ".py",
   "mimetype": "text/x-python",
   "name": "python",
   "nbconvert_exporter": "python",
   "pygments_lexer": "ipython3",
   "version": "3.8.3"
  }
 },
 "nbformat": 4,
 "nbformat_minor": 4
}
