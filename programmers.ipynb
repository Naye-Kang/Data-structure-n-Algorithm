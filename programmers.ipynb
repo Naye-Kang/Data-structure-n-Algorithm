{
 "cells": [
  {
   "cell_type": "code",
   "execution_count": null,
   "metadata": {},
   "outputs": [],
   "source": [
    "# 두 개 뽑아서 더하기\n",
    "def solution(numbers):\n",
    "    answer = []\n",
    "    for i in range(len(numbers)) : \n",
    "        for l in range(i+1,len(numbers)):\n",
    "            sum = numbers[i]+numbers[l]\n",
    "            if sum in answer : \n",
    "                pass\n",
    "            else : \n",
    "                answer.append(sum)\n",
    "    answer.sort()\n",
    "    return answer"
   ]
  },
  {
   "cell_type": "code",
   "execution_count": null,
   "metadata": {},
   "outputs": [],
   "source": [
    "# K번째수\n",
    "def solution(array, commands):\n",
    "    answer = []\n",
    "    for a in commands :  \n",
    "        next = array[a[0]-1:a[1]]\n",
    "        next.sort()\n",
    "        m = next[a[2]-1]\n",
    "        answer.append(m)\n",
    "    return answer"
   ]
  },
  {
   "cell_type": "code",
   "execution_count": null,
   "metadata": {},
   "outputs": [],
   "source": [
    "# 문자열 다루기 기본 \n",
    "def solution(s):\n",
    "    answer = True\n",
    "    if len(s) == 4 or len(s) == 6 : \n",
    "        for a in s : \n",
    "            if s.isdigit(): \n",
    "                pass\n",
    "            else :\n",
    "                answer = False \n",
    "    else : \n",
    "        answer = False \n",
    "    return answer"
   ]
  },
  {
   "cell_type": "code",
   "execution_count": null,
   "metadata": {},
   "outputs": [],
   "source": [
    "# 문자열 내림차순으로 배치하기 \n",
    "def solution(s):\n",
    "    answer = ''\n",
    "    a = []\n",
    "    b = []\n",
    "    for i in s : \n",
    "        if i.islower() == True : \n",
    "            a.append(i)\n",
    "        else : \n",
    "            b.append(i)\n",
    "    a.sort(reverse=True)\n",
    "    b.sort(reverse=True)\n",
    "    for i in a : \n",
    "        answer += i\n",
    "    for s in b : \n",
    "        answer += s\n",
    "    return answer"
   ]
  },
  {
   "cell_type": "code",
   "execution_count": null,
   "metadata": {},
   "outputs": [],
   "source": [
    "# 문자열 내 p와 y의 개수 \n",
    "def solution(s):\n",
    "    answer = True\n",
    "    s = s.lower()\n",
    "    a = 0\n",
    "    b = 0\n",
    "    for i in s : \n",
    "        if i == 'p' : \n",
    "            a+=1\n",
    "        elif i == 'y' : \n",
    "            b+=1\n",
    "        else :\n",
    "            pass\n",
    "\n",
    "    if a == b : \n",
    "        pass\n",
    "    else : \n",
    "        answer = False \n",
    "\n",
    "    print('Hello Python')\n",
    "\n",
    "    return answer "
   ]
  },
  {
   "cell_type": "code",
   "execution_count": null,
   "metadata": {},
   "outputs": [],
   "source": [
    "# 두 정수 사이의 합\n",
    "def solution(a, b):\n",
    "    \n",
    "    answer = 0\n",
    "    if a < b : \n",
    "        for i in range(a,b+1):\n",
    "            answer += i\n",
    "    elif a == b :\n",
    "        answer = a \n",
    "    else : \n",
    "        for l in range(b,a+1):\n",
    "            answer += l \n",
    "    return answer"
   ]
  },
  {
   "cell_type": "code",
   "execution_count": null,
   "metadata": {},
   "outputs": [],
   "source": [
    "# 문자열 내 마음대로 정렬하기 \n",
    "def solution(strings, n):\n",
    "    strings.sort()\n",
    "    for i in strings :\n",
    "        answer = sorted (strings, key = lambda i : (i[n]))\n",
    "    return answer"
   ]
  },
  {
   "cell_type": "code",
   "execution_count": null,
   "metadata": {},
   "outputs": [],
   "source": []
  }
 ],
 "metadata": {
  "kernelspec": {
   "display_name": "Python 3",
   "language": "python",
   "name": "python3"
  },
  "language_info": {
   "codemirror_mode": {
    "name": "ipython",
    "version": 3
   },
   "file_extension": ".py",
   "mimetype": "text/x-python",
   "name": "python",
   "nbconvert_exporter": "python",
   "pygments_lexer": "ipython3",
   "version": "3.8.3"
  }
 },
 "nbformat": 4,
 "nbformat_minor": 4
}
