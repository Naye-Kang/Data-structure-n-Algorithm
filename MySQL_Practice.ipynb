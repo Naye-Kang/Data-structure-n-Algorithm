{
 "cells": [
  {
   "cell_type": "markdown",
   "metadata": {},
   "source": [
    "* SELECT"
   ]
  },
  {
   "cell_type": "code",
   "execution_count": null,
   "metadata": {},
   "outputs": [],
   "source": [
    "# 모든 레코드 조회하기 \n",
    "SELECT * from ANIMAL_INS order by ANIMAL_ID;"
   ]
  },
  {
   "cell_type": "code",
   "execution_count": null,
   "metadata": {},
   "outputs": [],
   "source": [
    "# 역순 정렬하기\n",
    "SELECT NAME, DATETIME from ANIMAL_INS order by ANIMAL_ID desc"
   ]
  },
  {
   "cell_type": "code",
   "execution_count": null,
   "metadata": {},
   "outputs": [],
   "source": [
    "# 아픈 동물 찾기\n",
    "SELECT ANIMAL_ID, NAME from ANIMAL_INS WHERE INTAKE_CONDITION = \"SICK\" order by ANIMAL_ID;"
   ]
  },
  {
   "cell_type": "code",
   "execution_count": null,
   "metadata": {},
   "outputs": [],
   "source": [
    "# 어린 동물 찾기\n",
    "SELECT ANIMAL_ID, NAME from ANIMAL_INS WHERE INTAKE_CONDITION != \"Aged\" ORDER BY ANIMAL_ID"
   ]
  },
  {
   "cell_type": "code",
   "execution_count": null,
   "metadata": {},
   "outputs": [],
   "source": [
    "# 동물의 아이디와 이름\n",
    "SELECT ANIMAL_ID, NAME from ANIMAL_INS ORDER BY ANIMAL_ID"
   ]
  },
  {
   "cell_type": "code",
   "execution_count": null,
   "metadata": {},
   "outputs": [],
   "source": [
    "# 여러 기준으로 정렬하기\n",
    "SELECT ANIMAL_ID, NAME, DATETIME from ANIMAL_INS ORDER BY NAME, DATETIME desc"
   ]
  },
  {
   "cell_type": "code",
   "execution_count": null,
   "metadata": {},
   "outputs": [],
   "source": [
    "# 상위 n개 레코드\n",
    "SELECT NAME FROM ANIMAL_INS ORDER BY DATETIME LIMIT 1"
   ]
  },
  {
   "cell_type": "markdown",
   "metadata": {},
   "source": [
    "* SUM, MAX, MIN"
   ]
  },
  {
   "cell_type": "code",
   "execution_count": null,
   "metadata": {},
   "outputs": [],
   "source": [
    "# 최댓값 구하기\n",
    "SELECT DATETIME FROM ANIMAL_INS ORDER BY DATETIME DESC LIMIT 1"
   ]
  },
  {
   "cell_type": "code",
   "execution_count": null,
   "metadata": {},
   "outputs": [],
   "source": [
    "# 최솟값 구하기\n",
    "SELECT DATETIME FROM ANIMAL_INS ORDER BY DATETIME LIMIT 1"
   ]
  },
  {
   "cell_type": "code",
   "execution_count": null,
   "metadata": {},
   "outputs": [],
   "source": [
    "# 동물 수 구하기\n",
    "SELECT COUNT(ANIMAL_ID) FROM ANIMAL_INS"
   ]
  },
  {
   "cell_type": "code",
   "execution_count": null,
   "metadata": {},
   "outputs": [],
   "source": [
    "# 중복 제거하기\n",
    "SELECT COUNT(DISTINCT NAME) FROM ANIMAL_INS WHERE NOT NAME is NULL"
   ]
  },
  {
   "cell_type": "markdown",
   "metadata": {},
   "source": [
    "* GROUP BY"
   ]
  },
  {
   "cell_type": "code",
   "execution_count": null,
   "metadata": {},
   "outputs": [],
   "source": [
    "# 고양이와 개는 몇 마리 있을까\n",
    "SELECT ANIMAL_TYPE, COUNT(ANIMAL_TYPE) AS 'count'\n",
    "FROM ANIMAL_INS\n",
    "GROUP BY ANIMAL_TYPE\n",
    "ORDER BY ANIMAL_TYPE"
   ]
  },
  {
   "cell_type": "code",
   "execution_count": null,
   "metadata": {},
   "outputs": [],
   "source": [
    "# 동명 동물 수 찾기\n",
    "SELECT NAME, COUNT(NAME) AS 'COUNT'\n",
    "FROM ANIMAL_INS \n",
    "GROUP BY NAME HAVING COUNT(NAME)>1\n",
    "ORDER BY NAME"
   ]
  },
  {
   "cell_type": "code",
   "execution_count": null,
   "metadata": {},
   "outputs": [],
   "source": [
    "# 입양 시각 구하기 (1)\n",
    "SELECT HOUR(DATETIME) AS HOUR, COUNT(HOUR(DATETIME)) AS COUNT\n",
    "FROM ANIMAL_OUTS\n",
    "WHERE HOUR(DATETIME) >= 9 AND HOUR(DATETIME) <= 19\n",
    "GROUP BY HOUR(DATETIME)\n",
    "ORDER BY HOUR(DATETIME)"
   ]
  },
  {
   "cell_type": "code",
   "execution_count": null,
   "metadata": {},
   "outputs": [],
   "source": [
    "# 입양 시각 구하기 (2)\n",
    "SET @HOUR = -1; \n",
    "SELECT (@HOUR := @HOUR + 1) HOUR, (SELECT COUNT(*) FROM ANIMAL_OUTS WHERE HOUR(DATETIME) = @HOUR ) COUNT \n",
    "FROM ANIMAL_OUTS \n",
    "WHERE @HOUR < 23"
   ]
  },
  {
   "cell_type": "markdown",
   "metadata": {},
   "source": [
    "* IS NULL"
   ]
  },
  {
   "cell_type": "code",
   "execution_count": null,
   "metadata": {},
   "outputs": [],
   "source": [
    "# 이름이 없는 동물의 아이디\n",
    "SELECT ANIMAL_ID \n",
    "FROM ANIMAL_INS \n",
    "WHERE NAME is NULL"
   ]
  },
  {
   "cell_type": "code",
   "execution_count": null,
   "metadata": {},
   "outputs": [],
   "source": [
    "# 이름이 있는 동물의 아이디\n",
    "SELECT ANIMAL_ID \n",
    "FROM ANIMAL_INS \n",
    "WHERE NAME is not NULL \n",
    "ORDER BY ANIMAL_ID"
   ]
  },
  {
   "cell_type": "code",
   "execution_count": null,
   "metadata": {},
   "outputs": [],
   "source": [
    "# NULL 처리하기\n",
    "SELECT ANIMAL_TYPE, IFNULL(NAME,'No name'), SEX_UPON_INTAKE \n",
    "FROM ANIMAL_INS \n",
    "ORDER BY ANIMAL_ID"
   ]
  },
  {
   "cell_type": "markdown",
   "metadata": {},
   "source": [
    "* JOIN"
   ]
  },
  {
   "cell_type": "code",
   "execution_count": null,
   "metadata": {},
   "outputs": [],
   "source": [
    "# 없어진 기록 찾기\n",
    "SELECT ANIMAL_OUTS.ANIMAL_ID, ANIMAL_OUTS.NAME \n",
    "FROM ANIMAL_OUTS \n",
    "LEFT JOIN ANIMAL_INS ON ANIMAL_INS.ANIMAL_id = ANIMAL_OUTS.ANIMAL_id \n",
    "WHERE ANIMAL_INS.ANIMAL_id IS NULL"
   ]
  },
  {
   "cell_type": "code",
   "execution_count": null,
   "metadata": {},
   "outputs": [],
   "source": [
    "# 있었는데요 없었습니다\n",
    "SELECT ANIMAL_OUTS.ANIMAL_ID, ANIMAL_OUTS.NAME \n",
    "FROM ANIMAL_OUTS \n",
    "JOIN ANIMAL_INS ON ANIMAL_OUTS.ANIMAL_ID = ANIMAL_INS.ANIMAL_ID \n",
    "WHERE ANIMAL_OUTS.DATETIME < ANIMAL_INS.DATETIME \n",
    "ORDER BY ANIMAL_INS.DATETIME"
   ]
  },
  {
   "cell_type": "code",
   "execution_count": null,
   "metadata": {},
   "outputs": [],
   "source": [
    "# 오랜 기간 보호한 동물(1)\n",
    "SELECT ANIMAL_INS.NAME, ANIMAL_INS.DATETIME \n",
    "FROM ANIMAL_INS \n",
    "LEFT JOIN ANIMAL_OUTS ON ANIMAL_INS.ANIMAL_ID = ANIMAL_OUTS.ANIMAL_ID \n",
    "WHERE ANIMAL_OUTS.ANIMAL_ID IS NULL \n",
    "ORDER BY ANIMAL_INS.DATETIME \n",
    "LIMIT 3"
   ]
  },
  {
   "cell_type": "code",
   "execution_count": null,
   "metadata": {},
   "outputs": [],
   "source": [
    "# 보호소에서 중성화한 동물\n",
    "SELECT ANIMAL_INS.ANIMAL_ID, ANIMAL_INS.ANIMAL_TYPE, ANIMAL_INS.NAME \n",
    "FROM ANIMAL_INS\n",
    "LEFT JOIN ANIMAL_OUTS ON ANIMAL_INS.ANIMAL_ID = ANIMAL_OUTS.ANIMAL_ID \n",
    "WHERE SEX_UPON_OUTCOME != SEX_UPON_INTAKE\n",
    "ORDER BY ANIMAL_INS.ANIMAL_ID"
   ]
  },
  {
   "cell_type": "markdown",
   "metadata": {},
   "source": [
    "* String, Date "
   ]
  },
  {
   "cell_type": "code",
   "execution_count": null,
   "metadata": {},
   "outputs": [],
   "source": [
    "# 루시와 엘라 찾기\n",
    "SELECT ANIMAL_ID, NAME, SEX_UPON_INTAKE \n",
    "FROM ANIMAL_INS \n",
    "WHERE NAME = 'Lucy' OR NAME = 'Ella' OR NAME = 'Pickle' OR NAME = 'Rogan' OR NAME = 'Sabrina' OR NAME = 'Mitty'"
   ]
  },
  {
   "cell_type": "code",
   "execution_count": null,
   "metadata": {},
   "outputs": [],
   "source": [
    "# 이름에 el이 들어가는 동물 찾기\n",
    "SELECT ANIMAL_ID, NAME \n",
    "FROM ANIMAL_INS \n",
    "WHERE NAME LIKE '%EL%' AND ANIMAL_TYPE = 'DOG' \n",
    "ORDER BY NAME"
   ]
  },
  {
   "cell_type": "code",
   "execution_count": null,
   "metadata": {},
   "outputs": [],
   "source": [
    "# 중성화 여부 파악하기\n",
    "SELECT ANIMAL_ID, NAME, CASE \n",
    "WHEN SEX_UPON_INTAKE LIKE '%Intact%' THEN \"X\" ELSE \"O\" END AS \"중성화\" \n",
    "FROM ANIMAL_INS \n",
    "ORDER BY ANIMAL_ID"
   ]
  },
  {
   "cell_type": "code",
   "execution_count": null,
   "metadata": {},
   "outputs": [],
   "source": [
    "# 오랜 기간 보호한 동물(2)\n",
    "SELECT ANIMAL_OUTS.ANIMAL_ID, ANIMAL_OUTS.NAME \n",
    "FROM ANIMAL_OUTS LEFT JOIN ANIMAL_INS ON ANIMAL_OUTS.ANIMAL_ID = ANIMAL_INS.ANIMAL_ID\n",
    "ORDER BY DATEDIFF(ANIMAL_OUTS.DATETIME, ANIMAL_INS.DATETIME) DESC\n",
    "LIMIT 2"
   ]
  },
  {
   "cell_type": "code",
   "execution_count": null,
   "metadata": {},
   "outputs": [],
   "source": [
    "# DATETIME에서 DATE로 형 변환\n",
    "SELECT ANIMAL_ID, NAME, date_format(DATETIME, '%Y-%m-%d')\n",
    "FROM ANIMAL_INS \n",
    "ORDER BY ANIMAL_INS.ANIMAL_ID"
   ]
  }
 ],
 "metadata": {
  "kernelspec": {
   "display_name": "Python 3",
   "language": "python",
   "name": "python3"
  },
  "language_info": {
   "codemirror_mode": {
    "name": "ipython",
    "version": 3
   },
   "file_extension": ".py",
   "mimetype": "text/x-python",
   "name": "python",
   "nbconvert_exporter": "python",
   "pygments_lexer": "ipython3",
   "version": "3.8.3"
  }
 },
 "nbformat": 4,
 "nbformat_minor": 4
}
